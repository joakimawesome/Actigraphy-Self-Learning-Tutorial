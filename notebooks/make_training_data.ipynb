{
 "cells": [
  {
   "cell_type": "code",
   "execution_count": 2,
   "metadata": {},
   "outputs": [],
   "source": [
    "import os\n",
    "import json\n",
    "import glob\n",
    "import numpy as np\n",
    "import pandas as pd\n",
    "\n",
    "from sklearn.preprocessing import MinMaxScaler\n",
    "from scipy import stats\n",
    "from sklearn.model_selection import train_test_split\n",
    "from sklearn.linear_model import LogisticRegression\n",
    "from sklearn.tree import DecisionTreeClassifier\n",
    "from sklearn.ensemble import RandomForestClassifier\n",
    "from sklearn.metrics import accuracy_score"
   ]
  },
  {
   "cell_type": "code",
   "execution_count": 8,
   "metadata": {},
   "outputs": [],
   "source": [
    "def extract_json_from_response(text):\n",
    "    # Find the start of the JSON part (first occurrence of '{')\n",
    "    start_index = text.find('{')\n",
    "    if start_index == -1:\n",
    "        return None  # JSON start character not found\n",
    "    # Extract the JSON string\n",
    "    json_str = text[start_index:]\n",
    "    return json_str\n",
    "\n",
    "def clean_and_load_json_from_file(filepath):\n",
    "    with open(filepath, 'r') as file:\n",
    "        text = file.read()\n",
    "    # Now `text` contains the content of your file, and we can process it as before\n",
    "    cleaned_json_str = extract_json_from_response(text)\n",
    "    if cleaned_json_str is None:\n",
    "        print(\"No JSON content found.\")\n",
    "        return None\n",
    "    try:\n",
    "        data = json.loads(cleaned_json_str)\n",
    "        df = pd.json_normalize(data, record_path=['items'])\n",
    "        return df\n",
    "    except json.JSONDecodeError as e:\n",
    "        print(f\"Error parsing JSON: {e}\")\n",
    "        return None\n",
    "    \n",
    "def validate_and_load(filepath, max_shape=1000, verbose=True):\n",
    "    df = clean_and_load_json_from_file(filepath)\n",
    "    if df is not None and df.shape[0] >= max_shape:\n",
    "        if verbose:\n",
    "            print(f\"File {filepath} exceeds shape limit. Skipping.\")\n",
    "        return None\n",
    "    return df"
   ]
  },
  {
   "cell_type": "code",
   "execution_count": 6,
   "metadata": {},
   "outputs": [],
   "source": [
    "def transform_data(json_file, bw_method=None, percentile=33):\n",
    "    df = clean_and_load_json_from_file(json_file)\n",
    "\n",
    "    # Convert 'date' to datetime\n",
    "    df['date'] = pd.to_datetime(df['date'])\n",
    "    df['hour'] = df['minute'] // 60\n",
    "\n",
    "    # Create a datetime column by adding the hours and minutes to the 'date'\n",
    "    df['datetime'] = df['date'] + pd.to_timedelta(df['hour'] , unit='h') + pd.to_timedelta(df['minute'], unit='m')\n",
    "\n",
    "    # Normalize the activeness and steps\n",
    "    scaler = MinMaxScaler()\n",
    "    df[['activeness', 'steps']] = scaler.fit_transform(df[['activeness', 'steps']])\n",
    "\n",
    "    # Filter to only rows with 0 activeness\n",
    "    sleep_data = df[df['activeness'] == 0]\n",
    "\n",
    "    # KDE requires numerical input, so convert datetime to a numerical format (e.g., Unix timestamp)\n",
    "    timestamps = sleep_data['datetime'].view(np.int64)\n",
    "\n",
    "    # Apply KDE\n",
    "    kde = stats.gaussian_kde(timestamps)\n",
    "    if bw_method:\n",
    "        kde.set_bandwidth(bw_method=bw_method)\n",
    "    else:\n",
    "        kde.set_bandwidth(bw_method=kde.factor/50.)\n",
    "\n",
    "    # Evaluate the density on a grid of the same timestamps to identify hot zones\n",
    "    densities = kde(timestamps)\n",
    "\n",
    "    # Thresholding to determine hot zones might be based on density percentiles, e.g., top 25%\n",
    "    threshold = np.percentile(densities, percentile)\n",
    "\n",
    "    # Label the original data based on whether the timestamp falls within a hot zone\n",
    "    df['timestamp'] = df['datetime'].astype('int64') // 10**9  # Convert nanoseconds to seconds\n",
    "\n",
    "    # Create a boolean mask for sleep periods based on the density threshold\n",
    "    is_sleep = densities >= threshold\n",
    "\n",
    "    # Now let's adjust the final labeling step\n",
    "    df['sleep_wake_label'] = df.apply(lambda row: 'sleep' if row.name in df[df['activeness'] == 0][is_sleep].index.tolist() else 'wake', axis=1)\n",
    "    return df"
   ]
  },
  {
   "cell_type": "code",
   "execution_count": 9,
   "metadata": {},
   "outputs": [
    {
     "name": "stdout",
     "output_type": "stream",
     "text": [
      "No JSON content found.\n",
      "1964\n"
     ]
    }
   ],
   "source": [
    "all_suj = glob.glob('../data/**/*.json', recursive=True)\n",
    "filtered_suj = []\n",
    "for filepath in all_suj:\n",
    "    df = validate_and_load(filepath, verbose=False)\n",
    "    if df is not None:\n",
    "        filtered_suj.append(filepath)\n",
    "print(len(all_suj))"
   ]
  },
  {
   "cell_type": "code",
   "execution_count": null,
   "metadata": {},
   "outputs": [],
   "source": [
    "data_frames = []\n",
    "for filepath in filtered_suj[:100]:\n",
    "    filename = filepath.split('\\\\')[1]\n",
    "    df = transform_data(filepath)\n",
    "    single_suj_df = pd.DataFrame(df['sleep_wake_label'].value_counts())\n",
    "    single_suj_df\n",
    "    data_frames.append()\n"
   ]
  },
  {
   "cell_type": "code",
   "execution_count": null,
   "metadata": {},
   "outputs": [],
   "source": [
    "# Split the dataset into features (X) and target (y)\n",
    "X = \n",
    "y = \n",
    "\n",
    "# Split data into training and testing sets\n",
    "X_train, X_test, y_train, y_test = train_test_split(X, y, test_size=0.2, random_state=42)"
   ]
  },
  {
   "cell_type": "code",
   "execution_count": null,
   "metadata": {},
   "outputs": [],
   "source": [
    "# Create a dictionary to store models\n",
    "models = {\n",
    "    'Logistic Regression': LogisticRegression(),\n",
    "    'Decision Tree': DecisionTreeClassifier(),\n",
    "    'Random Forest': RandomForestClassifier()\n",
    "}\n",
    "\n",
    "# Train each model\n",
    "for name, model in models.items():\n",
    "    model.fit(X_train, y_train)\n",
    "\n",
    "# Make predictions on the test set\n",
    "for name, model in models.items():\n",
    "    y_pred = model.predict(X_test)\n",
    "    accuracy = accuracy_score(y_test, y_pred)\n",
    "    print(f'{name} Accuracy: {accuracy}')"
   ]
  }
 ],
 "metadata": {
  "kernelspec": {
   "display_name": "venv",
   "language": "python",
   "name": "python3"
  },
  "language_info": {
   "codemirror_mode": {
    "name": "ipython",
    "version": 3
   },
   "file_extension": ".py",
   "mimetype": "text/x-python",
   "name": "python",
   "nbconvert_exporter": "python",
   "pygments_lexer": "ipython3",
   "version": "3.11.8"
  }
 },
 "nbformat": 4,
 "nbformat_minor": 2
}
